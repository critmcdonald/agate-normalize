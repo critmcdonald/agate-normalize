{
 "cells": [
  {
   "cell_type": "code",
   "execution_count": 1,
   "metadata": {
    "collapsed": false
   },
   "outputs": [
    {
     "name": "stdout",
     "output_type": "stream",
     "text": [
      "\n",
      "The columns:\n",
      "\n",
      "| column            | data_type |\n",
      "| ----------------- | --------- |\n",
      "| GEO.id            | Text      |\n",
      "| GEO.id2           | Text      |\n",
      "| GEO.display-label | Text      |\n",
      "| HC01_VC85         | Number    |\n",
      "| HC02_VC85         | Number    |\n",
      "| HC03_VC85         | Text      |\n",
      "| HC04_VC85         | Number    |\n",
      "| HC05_VC85         | Text      |\n",
      "| HC06_VC85         | Number    |\n",
      "| HC07_VC85         | Text      |\n",
      "| HC08_VC85         | Number    |\n",
      "| HC09_VC85         | Text      |\n",
      "\n",
      "Table example:\n",
      "\n",
      "| GEO.id           | GEO.id2 | GEO.display-label    | HC01_VC85 | HC02_VC85 | HC03_VC85 | ... |\n",
      "| ---------------- | ------- | -------------------- | --------- | --------- | --------- | --- |\n",
      "| 0500000US48021   | 48021   | Bastrop County, T... |    56,508 |    63,129 |           | ... |\n",
      "| 0500000US48209   | 48209   | Hays County, Texas   |    64,658 |    59,537 |           | ... |\n",
      "| 0500000US48453   | 48453   | Travis County, Texas |    70,158 |    65,746 | *         | ... |\n",
      "| 0500000US48491   | 48491   | Williamson County... |    81,818 |    79,140 |           | ... |\n",
      "| 1600000US4805000 | 4805000 | Austin city, Texas   |    66,697 |    62,514 | *         | ... |\n",
      "| 1600000US4863500 | 4863500 | Round Rock city, ... |    72,001 |    76,455 |           | ... |\n",
      "\n",
      "Filtering works:\n",
      "\n",
      "| GEO.id         | GEO.id2 | GEO.display-label    | HC01_VC85 | HC02_VC85 | HC03_VC85 | ... |\n",
      "| -------------- | ------- | -------------------- | --------- | --------- | --------- | --- |\n",
      "| 0500000US48021 | 48021   | Bastrop County, T... |    56,508 |    63,129 |           | ... |\n"
     ]
    }
   ],
   "source": [
    "import agate\n",
    "\n",
    "column_names = [\n",
    "    \"GEO.id\",\n",
    "    \"GEO.id2\",\n",
    "    \"GEO.display-label\",\n",
    "    'HC01_VC85',\n",
    "    'HC02_VC85',\n",
    "    'HC03_VC85',\n",
    "    'HC04_VC85',\n",
    "    'HC05_VC85',\n",
    "    'HC06_VC85',\n",
    "    'HC07_VC85',\n",
    "    'HC08_VC85',\n",
    "    'HC09_VC85'\n",
    "    ]\n",
    "\n",
    "specified_types = {\n",
    "    'GEO.id': agate.Text(),\n",
    "    'GEO.id2': agate.Text()\n",
    "}\n",
    "\n",
    "# import the data\n",
    "data = agate.Table.from_csv(\n",
    "    '../data/normalist-test.csv',\n",
    "    column_names, column_types=specified_types,\n",
    "    skip_lines=1)\n",
    "\n",
    "print('\\nThe columns:\\n')\n",
    "print(data)\n",
    "\n",
    "print('Table example:\\n')\n",
    "data.print_table()\n",
    "\n",
    "print('\\nFiltering works:\\n')\n",
    "data.where(lambda row: row['GEO.id2'] == '48021').print_table()"
   ]
  },
  {
   "cell_type": "code",
   "execution_count": 5,
   "metadata": {
    "collapsed": false
   },
   "outputs": [
    {
     "name": "stdout",
     "output_type": "stream",
     "text": [
      "Print of normalized table:\n",
      "\n",
      "| GEO.id         | GEO.id2 | GEO.display-label    | property  | value |\n",
      "| -------------- | ------- | -------------------- | --------- | ----- |\n",
      "| 0500000US48021 | 48021   | Bastrop County, T... | HC01_VC85 | 56508 |\n",
      "| 0500000US48021 | 48021   | Bastrop County, T... | HC02_VC85 | 63129 |\n",
      "| 0500000US48021 | 48021   | Bastrop County, T... | HC03_VC85 |       |\n",
      "| 0500000US48021 | 48021   | Bastrop County, T... | HC04_VC85 | 54025 |\n",
      "| 0500000US48021 | 48021   | Bastrop County, T... | HC05_VC85 |       |\n",
      "| 0500000US48021 | 48021   | Bastrop County, T... | HC06_VC85 | 49830 |\n",
      "| 0500000US48021 | 48021   | Bastrop County, T... | HC07_VC85 |       |\n",
      "| 0500000US48021 | 48021   | Bastrop County, T... | HC08_VC85 | 51689 |\n",
      "| 0500000US48021 | 48021   | Bastrop County, T... | HC09_VC85 |       |\n",
      "| 0500000US48209 | 48209   | Hays County, Texas   | HC01_VC85 | 64658 |\n",
      "| 0500000US48209 | 48209   | Hays County, Texas   | HC02_VC85 | 59537 |\n",
      "| 0500000US48209 | 48209   | Hays County, Texas   | HC03_VC85 |       |\n"
     ]
    }
   ],
   "source": [
    "# list of columns to select\n",
    "location_columns = [\n",
    "    'GEO.id',\n",
    "    'GEO.id2',\n",
    "    'GEO.display-label'\n",
    "]\n",
    "\n",
    "median_columns = [\n",
    "    'HC01_VC85',\n",
    "    'HC02_VC85',\n",
    "    'HC03_VC85',\n",
    "    'HC04_VC85',\n",
    "    'HC05_VC85',\n",
    "    'HC06_VC85',\n",
    "    'HC07_VC85',\n",
    "    'HC08_VC85',\n",
    "    'HC09_VC85'\n",
    "]\n",
    "\n",
    "median_normalized = data.normalize(location_columns, median_columns)\n",
    "print('Print of normalized table:\\n')\n",
    "median_normalized.limit(12).print_table()"
   ]
  },
  {
   "cell_type": "code",
   "execution_count": 6,
   "metadata": {
    "collapsed": false
   },
   "outputs": [
    {
     "ename": "IndexError",
     "evalue": "tuple index out of range",
     "output_type": "error",
     "traceback": [
      "\u001b[0;31m---------------------------------------------------------------------------\u001b[0m",
      "\u001b[0;31mIndexError\u001b[0m                                Traceback (most recent call last)",
      "\u001b[0;32m<ipython-input-6-d558dbcb9770>\u001b[0m in \u001b[0;36m<module>\u001b[0;34m()\u001b[0m\n\u001b[1;32m      1\u001b[0m \u001b[0;31m# example of how a normalized table can't be filtered\u001b[0m\u001b[0;34m\u001b[0m\u001b[0;34m\u001b[0m\u001b[0m\n\u001b[0;32m----> 2\u001b[0;31m \u001b[0mmedian_fltered\u001b[0m \u001b[0;34m=\u001b[0m \u001b[0mmedian_normalized\u001b[0m\u001b[0;34m.\u001b[0m\u001b[0mwhere\u001b[0m\u001b[0;34m(\u001b[0m\u001b[0;32mlambda\u001b[0m \u001b[0mrow\u001b[0m\u001b[0;34m:\u001b[0m \u001b[0mrow\u001b[0m\u001b[0;34m[\u001b[0m\u001b[0;34m'GEO.id2'\u001b[0m\u001b[0;34m]\u001b[0m \u001b[0;34m==\u001b[0m \u001b[0;34m'48021'\u001b[0m\u001b[0;34m)\u001b[0m\u001b[0;34m\u001b[0m\u001b[0m\n\u001b[0m",
      "\u001b[0;32m/Users/christian/anaconda/envs/data/lib/python3.5/site-packages/agate/table/where.py\u001b[0m in \u001b[0;36mwhere\u001b[0;34m(self, test)\u001b[0m\n\u001b[1;32m     27\u001b[0m \u001b[0;34m\u001b[0m\u001b[0m\n\u001b[1;32m     28\u001b[0m             \u001b[0;32mif\u001b[0m \u001b[0mrow_names\u001b[0m \u001b[0;32mis\u001b[0m \u001b[0;32mnot\u001b[0m \u001b[0;32mNone\u001b[0m\u001b[0;34m:\u001b[0m\u001b[0;34m\u001b[0m\u001b[0m\n\u001b[0;32m---> 29\u001b[0;31m                 \u001b[0mrow_names\u001b[0m\u001b[0;34m.\u001b[0m\u001b[0mappend\u001b[0m\u001b[0;34m(\u001b[0m\u001b[0mself\u001b[0m\u001b[0;34m.\u001b[0m\u001b[0m_row_names\u001b[0m\u001b[0;34m[\u001b[0m\u001b[0mi\u001b[0m\u001b[0;34m]\u001b[0m\u001b[0;34m)\u001b[0m\u001b[0;34m\u001b[0m\u001b[0m\n\u001b[0m\u001b[1;32m     30\u001b[0m \u001b[0;34m\u001b[0m\u001b[0m\n\u001b[1;32m     31\u001b[0m     \u001b[0;32mreturn\u001b[0m \u001b[0mself\u001b[0m\u001b[0;34m.\u001b[0m\u001b[0m_fork\u001b[0m\u001b[0;34m(\u001b[0m\u001b[0mrows\u001b[0m\u001b[0;34m,\u001b[0m \u001b[0mrow_names\u001b[0m\u001b[0;34m=\u001b[0m\u001b[0mrow_names\u001b[0m\u001b[0;34m)\u001b[0m\u001b[0;34m\u001b[0m\u001b[0m\n",
      "\u001b[0;31mIndexError\u001b[0m: tuple index out of range"
     ]
    }
   ],
   "source": [
    "# example of how a normalized table can't be filtered\n",
    "median_fltered = median_normalized.where(lambda row: row['GEO.id2'] == '48021')"
   ]
  },
  {
   "cell_type": "code",
   "execution_count": null,
   "metadata": {
    "collapsed": true
   },
   "outputs": [],
   "source": []
  }
 ],
 "metadata": {
  "kernelspec": {
   "display_name": "Python 3",
   "language": "python",
   "name": "python3"
  },
  "language_info": {
   "codemirror_mode": {
    "name": "ipython",
    "version": 3
   },
   "file_extension": ".py",
   "mimetype": "text/x-python",
   "name": "python",
   "nbconvert_exporter": "python",
   "pygments_lexer": "ipython3",
   "version": "3.5.1"
  }
 },
 "nbformat": 4,
 "nbformat_minor": 0
}
