{
 "cells": [
  {
   "cell_type": "code",
   "execution_count": 1,
   "metadata": {
    "collapsed": false
   },
   "outputs": [
    {
     "name": "stdout",
     "output_type": "stream",
     "text": [
      "Normal table print:\n",
      "\n",
      "| letter | number | state | city        |\n",
      "| ------ | ------ | ----- | ----------- |\n",
      "| a      |      1 | TX    | Austin      |\n",
      "| b      |      2 | NY    | Buffalo     |\n",
      "| c      |        | CA    | Los Angeles |\n",
      "\n",
      "Filtered table print: \n",
      "\n",
      "| letter | number | state | city   |\n",
      "| ------ | ------ | ----- | ------ |\n",
      "| a      |      1 | TX    | Austin |\n",
      "\n",
      "normalized table: \n",
      "\n",
      "| state | city        | property | value |\n",
      "| ----- | ----------- | -------- | ----- |\n",
      "| TX    | Austin      | letter   | a     |\n",
      "| TX    | Austin      | number   | 1     |\n",
      "| NY    | Buffalo     | letter   | b     |\n",
      "| NY    | Buffalo     | number   | 2     |\n",
      "| CA    | Los Angeles | letter   | c     |\n",
      "| CA    | Los Angeles | number   |       |\n",
      "\n",
      "filtered normalized table:\n",
      "\n",
      "| state | city   | property | value |\n",
      "| ----- | ------ | -------- | ----- |\n",
      "| TX    | Austin | letter   | a     |\n",
      "| TX    | Austin | number   | 1     |\n"
     ]
    }
   ],
   "source": [
    "import agate\n",
    "\n",
    "column_names = ['letter', 'number', 'state', 'city']\n",
    "column_types = [agate.Text(), agate.Number(), agate.Text(), agate.Text()]\n",
    "\n",
    "rows = [\n",
    "    ('a', 1, 'TX', 'Austin'),\n",
    "    ('b', 2, 'NY', 'Buffalo'),\n",
    "    ('c', None, 'CA', 'Los Angeles')\n",
    "]\n",
    "\n",
    "# making tables\n",
    "table = agate.Table(rows, column_names, column_types)\n",
    "\n",
    "print('Normal table print:\\n')\n",
    "table.print_table()\n",
    "\n",
    "print('\\nFiltered table print: \\n')\n",
    "table.where(lambda row: row['state'] == \"TX\").print_table()\n",
    "\n",
    "normalized = table.normalize(['state', 'city'], ['letter', 'number'])\n",
    "\n",
    "print('\\nnormalized table: \\n')\n",
    "normalized.print_table()\n",
    "\n",
    "print('\\nfiltered normalized table:\\n')\n",
    "normalized.where(lambda row: row['state'] == 'TX').print_table()"
   ]
  },
  {
   "cell_type": "code",
   "execution_count": null,
   "metadata": {
    "collapsed": true
   },
   "outputs": [],
   "source": []
  }
 ],
 "metadata": {
  "kernelspec": {
   "display_name": "Python 3",
   "language": "python",
   "name": "python3"
  },
  "language_info": {
   "codemirror_mode": {
    "name": "ipython",
    "version": 3
   },
   "file_extension": ".py",
   "mimetype": "text/x-python",
   "name": "python",
   "nbconvert_exporter": "python",
   "pygments_lexer": "ipython3",
   "version": "3.5.1"
  }
 },
 "nbformat": 4,
 "nbformat_minor": 0
}
